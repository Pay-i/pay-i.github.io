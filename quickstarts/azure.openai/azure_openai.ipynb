{
 "cells": [
  {
   "cell_type": "code",
   "execution_count": null,
   "metadata": {},
   "outputs": [],
   "source": [
    "%pip install -r requirements.txt"
   ]
  },
  {
   "cell_type": "markdown",
   "metadata": {},
   "source": [
    "Basic Azure OpenAI Integration"
   ]
  },
  {
   "cell_type": "code",
   "execution_count": null,
   "metadata": {},
   "outputs": [],
   "source": [
    "from openai import AzureOpenAI\n",
    "import json\n",
    "import random\n",
    "import string\n",
    "\n",
    "#Replace with your Azure OpenAI Key\n",
    "aoai_key = \"YOUR_AZURE_OPENAI_KEY\"\n",
    "aoai_api_version = \"2024-02-15-preview\"\n",
    "\n",
    "#Replace with your Pay-i API Key\n",
    "payi_api_key=\"YOUR_PAYI_API_KEY\"\n",
    "\n",
    "#Replace with your Azure OpenAI Model Name, e.g. \"gpt-4o-2024-05-13\"\n",
    "#Note that the full model name is required by Azure OpenAI\n",
    "aoai_model = \"YOUR_AZURE_OPENAI_MODEL\"\n",
    "\n",
    "#Replace with your Azure OpenAI Deployment Name, e.g. \"test-4o\"\n",
    "aoai_deployment = \"YOUR_AZURE_OPENAI_DEPLOYMENT\"\n",
    "\n",
    "#Replace with your deployed Azure OpenAI endpoint URI\n",
    "aoai_instance_uri = \"YOUR_AZURE_OPENAI_ENDPOINT\"\n",
    "\n",
    "payi_headers = {\n",
    "    \"xProxy-Forward-api-key\": aoai_key,\n",
    "    \"xProxy-Provider-BaseUri\": aoai_instance_uri,\n",
    "    \"xProxy-RouteAs-Resource\": aoai_model,\n",
    "}\n",
    "\n",
    "payi_base_url = \"https://api.pay-i.com\"\n",
    "payi_aoai_url = payi_base_url + \"/api/v1/proxy/azure.openai\"\n",
    "\n",
    "oai_client = AzureOpenAI(\n",
    "    api_key=payi_api_key,\n",
    "    api_version=aoai_api_version,\n",
    "    azure_endpoint=payi_aoai_url,\n",
    "    default_headers=payi_headers\n",
    ")\n",
    "\n",
    "response = oai_client.chat.completions.create(\n",
    "    model=aoai_deployment,\n",
    "    messages=[{\"role\": \"user\", \"content\": \"Say 'this is a test'\"}]\n",
    ")\n",
    "\n",
    "completion = response.choices[0].message.content\n",
    "print(completion)\n",
    "\n",
    "xproxy_result = response.xproxy_result\n",
    "print(json.dumps(xproxy_result, indent=4))"
   ]
  },
  {
   "cell_type": "markdown",
   "metadata": {},
   "source": [
    "Handle streaming calls. xproxy_result is returned as part of the last chunk."
   ]
  },
  {
   "cell_type": "code",
   "execution_count": null,
   "metadata": {},
   "outputs": [],
   "source": [
    "stream = oai_client.chat.completions.create(\n",
    "    model=aoai_deployment,\n",
    "    messages=[{\"role\": \"user\", \"content\": \"tell me a very short story\"}],\n",
    "    stream=True,\n",
    ")\n",
    "for chunk in stream:\n",
    "    if chunk.choices[0].delta.content is not None:\n",
    "        print(chunk.choices[0].delta.content, end=\"\")\n",
    "    if 'xproxy_result' in chunk.model_extra:\n",
    "        print()\n",
    "        print(json.dumps(chunk.model_extra['xproxy_result'], indent=4))"
   ]
  },
  {
   "cell_type": "markdown",
   "metadata": {},
   "source": [
    "Use the Pay-i SDK to send a request with a request tag"
   ]
  },
  {
   "cell_type": "code",
   "execution_count": null,
   "metadata": {},
   "outputs": [],
   "source": [
    "from payi.lib.helpers import create_headers\n",
    "\n",
    "response = oai_client.chat.completions.create(\n",
    "    model=aoai_deployment,\n",
    "    messages=[{\"role\": \"user\", \"content\": \"Say 'this is a request tag test'\"}],\n",
    "    extra_headers=create_headers(request_tags=[\"x\", \"y\"])\n",
    ")\n",
    "\n",
    "completion = response.choices[0].message.content\n",
    "print(completion)\n",
    "\n",
    "xproxy_result = response.xproxy_result\n",
    "print(json.dumps(xproxy_result, indent=4))"
   ]
  },
  {
   "cell_type": "markdown",
   "metadata": {},
   "source": [
    "Create a budget and make a request with that budget"
   ]
  },
  {
   "cell_type": "code",
   "execution_count": null,
   "metadata": {},
   "outputs": [],
   "source": [
    "from payi import Payi\n",
    "\n",
    "payi_client = Payi(\n",
    "    payi_api_key=payi_api_key,\n",
    "    base_url=payi_base_url\n",
    ")\n",
    "\n",
    "#Create a budget\n",
    "budget_response = payi_client.budgets.create(\n",
    "    #Use a random name for the budget\n",
    "    budget_name=''.join(random.choices(string.ascii_letters + string.digits, k=6)), \n",
    "    max=12.50, #$12.50 USD\n",
    "    budget_type=\"Liberal\",\n",
    "    budget_response_type=\"Allow\",\n",
    "    budget_tags=[\"example_budget\"]\n",
    ")\n",
    "\n",
    "budget_name = budget_response.budget.budget_name\n",
    "budget_id = budget_response.budget.budget_id\n",
    "\n",
    "print(\"Budget Created\")\n",
    "print(f\"Budget Name: {budget_name}\")\n",
    "print(f\"Budget ID: {budget_id}\")\n",
    "\n",
    "#Make a request using the new budget and request tags\n",
    "response = oai_client.chat.completions.create(\n",
    "    model=aoai_deployment, \n",
    "    messages=[{\"role\": \"user\", \"content\": \"Say 'this is a budget test'\"}],\n",
    "    extra_headers=create_headers(\n",
    "        request_tags=[\"x\", \"y\"], \n",
    "        budget_ids=[budget_id]\n",
    "    )\n",
    ")\n",
    "\n",
    "completion = response.choices[0].message.content\n",
    "print(completion)\n",
    "\n",
    "xproxy_result = response.xproxy_result\n",
    "print(json.dumps(xproxy_result, indent=4))"
   ]
  },
  {
   "cell_type": "markdown",
   "metadata": {},
   "source": [
    "See budget status"
   ]
  },
  {
   "cell_type": "code",
   "execution_count": null,
   "metadata": {},
   "outputs": [],
   "source": [
    "response = payi_client.budgets.retrieve(budget_id=budget_id)\n",
    "print(f\"Budget Name: {response.budget.budget_name}\")\n",
    "print(f\"Budget ID: {response.budget.budget_id}\")\n",
    "print(f\"Budget Creation Timestamp: {response.budget.budget_creation_timestamp}\")\n",
    "print(f\"Budget Tags: {response.budget.budget_tags}\")\n",
    "print(f\"Budget Input Base Cost: {response.budget.totals.cost.input.base}\")\n",
    "print(f\"Budget Output Base Cost: {response.budget.totals.cost.output.base}\")\n",
    "print(f\"Budget Total Base Cost: {response.budget.totals.cost.output.base}\")"
   ]
  },
  {
   "cell_type": "markdown",
   "metadata": {},
   "source": [
    "Make an ingest call with pre-computed token values"
   ]
  },
  {
   "cell_type": "code",
   "execution_count": null,
   "metadata": {},
   "outputs": [],
   "source": [
    "response = payi_client.ingest.units(\n",
    "    category=\"system.openai\",\n",
    "    resource=\"gpt-4o\",\n",
    "    input=50,\n",
    "    output=100,\n",
    "    budget_ids= [budget_id],\n",
    "    request_tags = [\"a\", \"b\"]\n",
    ")\n",
    "\n",
    "print(f\"Ingest request ID: {response.request_id}\")\n",
    "print(f\"Input Base Cost: {response.cost.input.base}\")\n",
    "print(f\"Output Base Cost: {response.cost.output.base}\")\n",
    "print(f\"Total Base Cost: {response.cost.total.base}\")"
   ]
  },
  {
   "cell_type": "markdown",
   "metadata": {},
   "source": [
    "Reset a budget back to zero tracked cost"
   ]
  },
  {
   "cell_type": "code",
   "execution_count": null,
   "metadata": {},
   "outputs": [],
   "source": [
    "response = payi_client.budgets.reset(budget_id=budget_id)\n",
    "print(response.message)\n",
    "print(\"State prior to reset: \")\n",
    "print(f\"Budget Name: {response.budget_history.budget_name}\")\n",
    "print(f\"Budget ID: {response.budget_history.budget_id}\")\n",
    "print(f\"Budget Tags: {response.budget_history.budget_tags}\")\n",
    "print(f\"Budget Reset Timestamp: {response.budget_history.budget_reset_timestamp}\")\n",
    "print(f\"Budget Input Base Cost: {response.budget_history.totals.cost.input.base}\")\n",
    "print(f\"Budget Output Base Cost: {response.budget_history.totals.cost.output.base}\")\n",
    "print(f\"Budget Total Base Cost: {response.budget_history.totals.cost.total.base}\")\n",
    "\n",
    "print(\"\\nState after reset:\")\n",
    "response = payi_client.budgets.retrieve(budget_id=budget_id)\n",
    "print(f\"Budget Name: {response.budget.budget_name}\")\n",
    "print(f\"Budget ID: {response.budget.budget_id}\")\n",
    "print(f\"Budget Creation Timestamp: {response.budget.budget_creation_timestamp}\")\n",
    "print(f\"Budget Tags: {response.budget.budget_tags}\")\n",
    "print(f\"Budget Input Base Cost: {response.budget.totals.cost}\")\n",
    "print(f\"Budget Output Base Cost: {response.budget.totals.cost.output.base}\")\n",
    "print(f\"Budget Total Base Cost: {response.budget.totals.cost.total.base}\")"
   ]
  },
  {
   "cell_type": "markdown",
   "metadata": {},
   "source": [
    "Create a small, conservative budget that will prevent calls from happening that exceed the maximum, then capture the output."
   ]
  },
  {
   "cell_type": "code",
   "execution_count": null,
   "metadata": {},
   "outputs": [],
   "source": [
    "budget_response = payi_client.budgets.create(\n",
    "    budget_name=''.join(random.choices(string.ascii_letters + string.digits, k=6)),  \n",
    "    max=0.01, \n",
    "    budget_type=\"conservative\",\n",
    "    budget_response_type=\"block\",\n",
    "    budget_tags=[\"budget_block_example\"]\n",
    ")\n",
    "cons_budget = budget_response.budget.budget_id\n",
    "\n",
    "print(\"Budget Created\")\n",
    "print(f\"Budget Name: {budget_response.budget.budget_name}\")\n",
    "print(f\"Budget ID: {budget_response.budget.budget_id}\")\n",
    "\n",
    "try:\n",
    "    response = oai_client.chat.completions.create(\n",
    "        model=aoai_deployment,\n",
    "        messages=[{\"role\": \"user\", \"content\": \"tell me a short story about a toy\"}],\n",
    "        extra_headers=create_headers(\n",
    "            request_tags=[\"toy_story\"], \n",
    "            budget_ids=[cons_budget]\n",
    "        )\n",
    "    )\n",
    "except Exception as e:\n",
    "    print(json.dumps(e.body, indent=4))"
   ]
  },
  {
   "cell_type": "markdown",
   "metadata": {},
   "source": [
    "List and then delete all budgets"
   ]
  },
  {
   "cell_type": "code",
   "execution_count": null,
   "metadata": {},
   "outputs": [],
   "source": [
    "response = payi_client.budgets.list()\n",
    "for budget in response.items:\n",
    "    print(\"Deleting budget with id:\" + budget.budget_id)\n",
    "    payi_client.budgets.delete(budget.budget_id)"
   ]
  }
 ],
 "metadata": {
  "kernelspec": {
   "display_name": "Python 3",
   "language": "python",
   "name": "python3"
  },
  "language_info": {
   "codemirror_mode": {
    "name": "ipython",
    "version": 3
   },
   "file_extension": ".py",
   "mimetype": "text/x-python",
   "name": "python",
   "nbconvert_exporter": "python",
   "pygments_lexer": "ipython3",
   "version": "3.12.2"
  }
 },
 "nbformat": 4,
 "nbformat_minor": 2
}
