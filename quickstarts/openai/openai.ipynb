{
 "cells": [
  {
   "cell_type": "code",
   "execution_count": null,
   "metadata": {},
   "outputs": [],
   "source": [
    "%pip install --upgrade -r requirements.txt"
   ]
  },
  {
   "cell_type": "markdown",
   "metadata": {},
   "source": [
    "Basic OpenAI Integration"
   ]
  },
  {
   "cell_type": "code",
   "execution_count": 1,
   "metadata": {},
   "outputs": [
    {
     "name": "stdout",
     "output_type": "stream",
     "text": [
      "This is a test.\n",
      "{\n",
      "    \"cost\": {\n",
      "        \"currency\": \"usd\",\n",
      "        \"input\": {\n",
      "            \"base\": 7e-06\n",
      "        },\n",
      "        \"output\": {\n",
      "            \"base\": 7.5e-06\n",
      "        },\n",
      "        \"total\": {\n",
      "            \"base\": 1.45e-05\n",
      "        }\n",
      "    },\n",
      "    \"request_id\": \"40000b84-0000-fe00-b63f-84710c7967bb\"\n",
      "}\n"
     ]
    }
   ],
   "source": [
    "from openai import OpenAI\n",
    "import json\n",
    "import random\n",
    "import string\n",
    "\n",
    "openai_key = \"YOUR_OPENAI_KEY\"\n",
    "payi_api_key=\"YOUR_PAYI_API_KEY\"\n",
    "\n",
    "#Forward the OpenAI Authorization\n",
    "payi_oai_headers = {\n",
    "    \"xProxy-Forward-Authorization\": \"Bearer \" + openai_key\n",
    "}\n",
    "\n",
    "payi_base_url = \"https://api.pay-i.com\"\n",
    "payi_oai_url = payi_base_url + \"/api/v1/proxy/openai/v1\"\n",
    "\n",
    "oai_client = OpenAI(\n",
    "    api_key=payi_api_key,\n",
    "    base_url=payi_oai_url,\n",
    "    default_headers=payi_oai_headers\n",
    ")\n",
    "\n",
    "response = oai_client.chat.completions.create(\n",
    "    model=\"gpt-3.5-turbo\", \n",
    "    messages=[{\"role\": \"user\", \"content\": \"Say 'this is a test'\"}],\n",
    ")\n",
    "\n",
    "completion = response.choices[0].message.content\n",
    "print(completion)\n",
    "\n",
    "xproxy_result = response.xproxy_result\n",
    "print(json.dumps(xproxy_result, indent=4))"
   ]
  },
  {
   "cell_type": "markdown",
   "metadata": {},
   "source": [
    "Handle streaming calls. xproxy_result is returned as part of the last chunk."
   ]
  },
  {
   "cell_type": "code",
   "execution_count": 2,
   "metadata": {},
   "outputs": [
    {
     "name": "stdout",
     "output_type": "stream",
     "text": [
      "Once upon a time, in a small village nestled in the mountains, there lived a young girl named Lily. She was known for her kind heart and infectious laughter that could brighten even the gloomiest of days. One day, while exploring the forest near her home, Lily stumbled upon a wounded bird with a broken wing. Without hesitation, she gently picked up the bird and nursed it back to health with love and care. The bird, grateful for Lily's kindness, soon healed and flew off into the sky, leaving behind a trail of glittering feathers as a token of gratitude. From that day on, the villagers believed that Lily possessed a special connection with nature, and she was hailed as a guardian of the wilderness. Lily's act of kindness had not only helped a wounded creature but also brought harmony and joy to her village. And so, the legend of Lily the nature guardian spread far and wide, inspiring others to show compassion and care for all living beings.\n",
      "{\n",
      "    \"cost\": {\n",
      "        \"currency\": \"usd\",\n",
      "        \"input\": {\n",
      "            \"base\": 6.5e-06\n",
      "        },\n",
      "        \"output\": {\n",
      "            \"base\": 0.000294\n",
      "        },\n",
      "        \"total\": {\n",
      "            \"base\": 0.0003005\n",
      "        }\n",
      "    },\n",
      "    \"request_id\": \"40000b85-0000-fe00-b63f-84710c7967bb\"\n",
      "}\n"
     ]
    }
   ],
   "source": [
    "stream = oai_client.chat.completions.create(\n",
    "    model=\"gpt-3.5-turbo\",\n",
    "    messages=[{\"role\": \"user\", \"content\": \"tell me a very short story\"}],\n",
    "    stream=True,\n",
    ")\n",
    "for chunk in stream:\n",
    "    if chunk.choices[0].delta.content is not None:\n",
    "        print(chunk.choices[0].delta.content, end=\"\")\n",
    "    if 'xproxy_result' in chunk.model_extra:\n",
    "        print()\n",
    "        print(json.dumps(chunk.model_extra['xproxy_result'], indent=4))"
   ]
  },
  {
   "cell_type": "markdown",
   "metadata": {},
   "source": [
    "Use the Pay-i SDK to send a request with request tags"
   ]
  },
  {
   "cell_type": "code",
   "execution_count": 3,
   "metadata": {},
   "outputs": [
    {
     "name": "stdout",
     "output_type": "stream",
     "text": [
      "this is a request tag test\n",
      "{\n",
      "    \"cost\": {\n",
      "        \"currency\": \"usd\",\n",
      "        \"input\": {\n",
      "            \"base\": 8e-06\n",
      "        },\n",
      "        \"output\": {\n",
      "            \"base\": 9e-06\n",
      "        },\n",
      "        \"total\": {\n",
      "            \"base\": 1.7e-05\n",
      "        }\n",
      "    },\n",
      "    \"request_id\": \"40000b88-0000-fe00-b63f-84710c7967bb\",\n",
      "    \"request_tags\": [\n",
      "        \"x\",\n",
      "        \"y\"\n",
      "    ]\n",
      "}\n"
     ]
    }
   ],
   "source": [
    "from payi.lib.helpers import create_headers\n",
    "\n",
    "response = oai_client.chat.completions.create(\n",
    "    model=\"gpt-3.5-turbo\", \n",
    "    messages=[{\"role\": \"user\", \"content\": \"Say 'this is a request tag test'\"}],\n",
    "    extra_headers=create_headers(request_tags=[\"x\", \"y\"])\n",
    ")\n",
    "\n",
    "completion = response.choices[0].message.content\n",
    "print(completion)\n",
    "\n",
    "xproxy_result = response.xproxy_result\n",
    "print(json.dumps(xproxy_result, indent=4))"
   ]
  },
  {
   "cell_type": "markdown",
   "metadata": {},
   "source": [
    "Create a budget and make a request with that budget"
   ]
  },
  {
   "cell_type": "code",
   "execution_count": 4,
   "metadata": {},
   "outputs": [
    {
     "name": "stdout",
     "output_type": "stream",
     "text": [
      "Budget Created\n",
      "Budget Name: NPpiEi\n",
      "Budget ID: 4d5072a8-27fe-4188-94fd-08dc9f89e050\n",
      "This is a budget test.\n",
      "{\n",
      "    \"cost\": {\n",
      "        \"currency\": \"usd\",\n",
      "        \"input\": {\n",
      "            \"base\": 7.5e-06\n",
      "        },\n",
      "        \"output\": {\n",
      "            \"base\": 9e-06\n",
      "        },\n",
      "        \"total\": {\n",
      "            \"base\": 1.65e-05\n",
      "        }\n",
      "    },\n",
      "    \"request_id\": \"40000b8b-0000-fe00-b63f-84710c7967bb\",\n",
      "    \"request_tags\": [\n",
      "        \"x\",\n",
      "        \"y\"\n",
      "    ],\n",
      "    \"budgets\": {\n",
      "        \"4d5072a8-27fe-4188-94fd-08dc9f89e050\": {\n",
      "            \"state\": \"ok\"\n",
      "        }\n",
      "    }\n",
      "}\n"
     ]
    }
   ],
   "source": [
    "from payi import Payi\n",
    "\n",
    "payi_client = Payi(\n",
    "    payi_api_key=payi_api_key,\n",
    "    base_url=payi_base_url\n",
    ")\n",
    "\n",
    "#Create a budget\n",
    "budget_response = payi_client.budgets.create(\n",
    "    #Use a random name for the budget\n",
    "    budget_name=''.join(random.choices(string.ascii_letters + string.digits, k=6)), \n",
    "    max=12.50, #$12.50 USD\n",
    "    budget_type=\"Liberal\",\n",
    "    budget_response_type=\"Allow\",\n",
    "    budget_tags=[\"example_budget\"]\n",
    ")\n",
    "\n",
    "budget_name = budget_response.budget.budget_name\n",
    "budget_id = budget_response.budget.budget_id\n",
    "\n",
    "print(\"Budget Created\")\n",
    "print(f\"Budget Name: {budget_name}\")\n",
    "print(f\"Budget ID: {budget_id}\")\n",
    "\n",
    "#Make a request using the new budget and request tags\n",
    "response = oai_client.chat.completions.create(\n",
    "    model=\"gpt-3.5-turbo\", \n",
    "    messages=[{\"role\": \"user\", \"content\": \"Say 'this is a budget test'\"}],\n",
    "    extra_headers=create_headers(\n",
    "        request_tags=[\"x\", \"y\"], \n",
    "        budget_ids=[budget_id]\n",
    "    )\n",
    ")\n",
    "\n",
    "completion = response.choices[0].message.content\n",
    "print(completion)\n",
    "\n",
    "xproxy_result = response.xproxy_result\n",
    "print(json.dumps(xproxy_result, indent=4))"
   ]
  },
  {
   "cell_type": "markdown",
   "metadata": {},
   "source": [
    "See budget status"
   ]
  },
  {
   "cell_type": "code",
   "execution_count": 5,
   "metadata": {},
   "outputs": [
    {
     "name": "stdout",
     "output_type": "stream",
     "text": [
      "Budget Name: NPpiEi\n",
      "Budget ID: 4d5072a8-27fe-4188-94fd-08dc9f89e050\n",
      "Budget Creation Timestamp: 2024-07-08 23:47:37.909364\n",
      "Budget Tags: ['example_budget']\n",
      "Budget Input Base Cost: 7.5e-06\n",
      "Budget Output Base Cost: 9e-06\n",
      "Budget Total Base Cost: 9e-06\n"
     ]
    }
   ],
   "source": [
    "response = payi_client.budgets.retrieve(budget_id=budget_id)\n",
    "print(f\"Budget Name: {response.budget.budget_name}\")\n",
    "print(f\"Budget ID: {response.budget.budget_id}\")\n",
    "print(f\"Budget Creation Timestamp: {response.budget.budget_creation_timestamp}\")\n",
    "print(f\"Budget Tags: {response.budget.budget_tags}\")\n",
    "print(f\"Budget Input Base Cost: {response.budget.totals.cost.input.base}\")\n",
    "print(f\"Budget Output Base Cost: {response.budget.totals.cost.output.base}\")\n",
    "print(f\"Budget Total Base Cost: {response.budget.totals.cost.output.base}\")"
   ]
  },
  {
   "cell_type": "markdown",
   "metadata": {},
   "source": [
    "Make an ingest call with pre-computed token values"
   ]
  },
  {
   "cell_type": "code",
   "execution_count": 6,
   "metadata": {},
   "outputs": [
    {
     "name": "stdout",
     "output_type": "stream",
     "text": [
      "Ingest request ID: 40000b8e-0000-fe00-b63f-84710c7967bb\n",
      "Input Base Cost: 0.00025\n",
      "Output Base Cost: 0.0015\n",
      "Total Base Cost: 0.00175\n"
     ]
    }
   ],
   "source": [
    "response = payi_client.ingest.units(\n",
    "    category=\"system.openai\",\n",
    "    resource=\"gpt-4o\",\n",
    "    input=50,\n",
    "    output=100,\n",
    "    budget_ids= [budget_id],\n",
    "    request_tags = [\"a\", \"b\"]\n",
    ")\n",
    "\n",
    "print(f\"Ingest request ID: {response.request_id}\")\n",
    "print(f\"Input Base Cost: {response.cost.input.base}\")\n",
    "print(f\"Output Base Cost: {response.cost.output.base}\")\n",
    "print(f\"Total Base Cost: {response.cost.total.base}\")"
   ]
  },
  {
   "cell_type": "markdown",
   "metadata": {},
   "source": [
    "Reset a budget back to zero tracked cost"
   ]
  },
  {
   "cell_type": "code",
   "execution_count": null,
   "metadata": {},
   "outputs": [],
   "source": [
    "response = payi_client.budgets.reset(budget_id=budget_id)\n",
    "print(response.message)\n",
    "print(\"State prior to reset: \")\n",
    "print(f\"Budget Name: {response.budget_history.budget_name}\")\n",
    "print(f\"Budget ID: {response.budget_history.budget_id}\")\n",
    "print(f\"Budget Tags: {response.budget_history.budget_tags}\")\n",
    "print(f\"Budget Reset Timestamp: {response.budget_history.budget_reset_timestamp}\")\n",
    "print(f\"Budget Input Base Cost: {response.budget_history.totals.cost.input.base}\")\n",
    "print(f\"Budget Output Base Cost: {response.budget_history.totals.cost.output.base}\")\n",
    "print(f\"Budget Total Base Cost: {response.budget_history.totals.cost.total.base}\")\n",
    "\n",
    "print(\"\\nState after reset:\")\n",
    "response = payi_client.budgets.retrieve(budget_id=budget_id)\n",
    "print(f\"Budget Name: {response.budget.budget_name}\")\n",
    "print(f\"Budget ID: {response.budget.budget_id}\")\n",
    "print(f\"Budget Creation Timestamp: {response.budget.budget_creation_timestamp}\")\n",
    "print(f\"Budget Tags: {response.budget.budget_tags}\")\n",
    "print(f\"Budget Input Base Cost: {response.budget.totals.cost}\")\n",
    "print(f\"Budget Output Base Cost: {response.budget.totals.cost.output.base}\")\n",
    "print(f\"Budget Total Base Cost: {response.budget.totals.cost.total.base}\")"
   ]
  },
  {
   "cell_type": "markdown",
   "metadata": {},
   "source": [
    "Create a small, conservative budget that will prevent calls from happening that exceed the maximum, then capture the output."
   ]
  },
  {
   "cell_type": "code",
   "execution_count": 7,
   "metadata": {},
   "outputs": [
    {
     "name": "stdout",
     "output_type": "stream",
     "text": [
      "Budget Created\n",
      "Budget Name: 6xqb3Q\n",
      "Budget ID: fc8058bc-6922-4b16-94fe-08dc9f89e050\n",
      "{\n",
      "    \"xproxy_result\": {\n",
      "        \"blocked_budget_ids\": [\n",
      "            \"fc8058bc-6922-4b16-94fe-08dc9f89e050\"\n",
      "        ],\n",
      "        \"request_id\": \"400018c9-0000-f400-b63f-84710c7967bb\",\n",
      "        \"request_tags\": [\n",
      "            \"toy_story\"\n",
      "        ],\n",
      "        \"budgets\": {\n",
      "            \"fc8058bc-6922-4b16-94fe-08dc9f89e050\": {\n",
      "                \"state\": \"blocked\"\n",
      "            }\n",
      "        }\n",
      "    },\n",
      "    \"message\": \"Insufficient budget for the requested operation\",\n",
      "    \"statusCode\": 400,\n",
      "    \"xproxy_error\": {\n",
      "        \"code\": \"not_enough_budget\",\n",
      "        \"message\": \"Insufficient budget for the requested operation\"\n",
      "    }\n",
      "}\n"
     ]
    }
   ],
   "source": [
    "budget_response = payi_client.budgets.create(\n",
    "    budget_name=''.join(random.choices(string.ascii_letters + string.digits, k=6)),  \n",
    "    max=0.01, \n",
    "    budget_type=\"conservative\",\n",
    "    budget_response_type=\"block\",\n",
    "    budget_tags=[\"budget_block_example\"]\n",
    ")\n",
    "cons_budget = budget_response.budget.budget_id\n",
    "\n",
    "print(\"Budget Created\")\n",
    "print(f\"Budget Name: {budget_response.budget.budget_name}\")\n",
    "print(f\"Budget ID: {budget_response.budget.budget_id}\")\n",
    "\n",
    "try:\n",
    "    response = oai_client.chat.completions.create(\n",
    "        model=\"gpt-4-0125-preview\", \n",
    "        messages=[{\"role\": \"user\", \"content\": \"tell me a short story about a toy\"}],\n",
    "        extra_headers=create_headers(\n",
    "            request_tags=[\"toy_story\"], \n",
    "            budget_ids=[cons_budget]\n",
    "        )\n",
    "    )\n",
    "except Exception as e:\n",
    "    print(json.dumps(e.body, indent=4))"
   ]
  },
  {
   "cell_type": "markdown",
   "metadata": {},
   "source": [
    "List and then delete all budgets"
   ]
  },
  {
   "cell_type": "code",
   "execution_count": 8,
   "metadata": {},
   "outputs": [
    {
     "name": "stdout",
     "output_type": "stream",
     "text": [
      "Deleting budget with id:4d5072a8-27fe-4188-94fd-08dc9f89e050\n",
      "Deleting budget with id:fc8058bc-6922-4b16-94fe-08dc9f89e050\n"
     ]
    }
   ],
   "source": [
    "response = payi_client.budgets.list()\n",
    "for budget in response.items:\n",
    "    print(\"Deleting budget with id:\" + budget.budget_id)\n",
    "    payi_client.budgets.delete(budget.budget_id)"
   ]
  }
 ],
 "metadata": {
  "kernelspec": {
   "display_name": "Python 3",
   "language": "python",
   "name": "python3"
  },
  "language_info": {
   "codemirror_mode": {
    "name": "ipython",
    "version": 3
   },
   "file_extension": ".py",
   "mimetype": "text/x-python",
   "name": "python",
   "nbconvert_exporter": "python",
   "pygments_lexer": "ipython3",
   "version": "3.12.2"
  }
 },
 "nbformat": 4,
 "nbformat_minor": 2
}
