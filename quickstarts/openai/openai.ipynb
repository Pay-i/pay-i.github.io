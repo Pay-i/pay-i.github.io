{
 "cells": [
  {
   "cell_type": "code",
   "execution_count": null,
   "metadata": {},
   "outputs": [],
   "source": [
    "%pip install -r requirements.txt"
   ]
  },
  {
   "cell_type": "markdown",
   "metadata": {},
   "source": [
    "Basic OpenAI Integration"
   ]
  },
  {
   "cell_type": "code",
   "execution_count": null,
   "metadata": {},
   "outputs": [],
   "source": [
    "from openai import OpenAI\n",
    "import json\n",
    "import random\n",
    "import string\n",
    "\n",
    "#TODO: Remove keys\n",
    "openai_key = \"YOUR_OPENAI_KEY\"\n",
    "payi_api_key=\"YOUR_PAYI_API_KEY\"\n",
    "\n",
    "payi_oai_headers = {\n",
    "    \"xProxy-Forward-Authorization\": \"Bearer \" + openai_key\n",
    "}\n",
    "\n",
    "#TODO: Replace with prod endpoint under the DNS\n",
    "payi_oai_url = \"https://apim-payi-qa-eastus.azure-api.net/api/v1/proxy/openai/v1\"\n",
    "\n",
    "oai_client = OpenAI(\n",
    "    api_key=payi_api_key,\n",
    "    base_url=payi_oai_url,\n",
    "    default_headers=payi_oai_headers\n",
    ")\n",
    "\n",
    "response = oai_client.chat.completions.create(\n",
    "    model=\"gpt-3.5-turbo\", \n",
    "    messages=[{\"role\": \"user\", \"content\": \"Say 'this is a test'\"}],\n",
    ")\n",
    "\n",
    "completion = response.choices[0].message.content\n",
    "print(completion)\n",
    "\n",
    "proxy_result = response.proxy_result\n",
    "print(json.dumps(proxy_result, indent=4))"
   ]
  },
  {
   "cell_type": "code",
   "execution_count": null,
   "metadata": {},
   "outputs": [],
   "source": [
    "#TODO: Merge into the library directly\n",
    "from typing import List, Dict\n",
    "\n",
    "def create_budget_header_from_ids(budget_ids: List[str]) -> Dict[str, str]:\n",
    "    if not isinstance(budget_ids, list):\n",
    "        raise TypeError(\"budget_ids must be a list\")\n",
    "    \n",
    "    valid_ids = [id.strip() for id in budget_ids if isinstance(id, str) and id.strip()]\n",
    "    if valid_ids:\n",
    "        return {\"xProxy-Budget-IDs\": \",\".join(valid_ids)}\n",
    "    return {}\n",
    "\n",
    "def create_request_header_from_ids(request_ids: List[str]) -> Dict[str, str]:\n",
    "    if not isinstance(request_ids, list):\n",
    "        raise TypeError(\"request_tags must be a list\")\n",
    "    \n",
    "    valid_ids = [id.strip() for id in request_ids if isinstance(id, str) and id.strip()]\n",
    "    if valid_ids:\n",
    "        return {\"xProxy-Request-Tags\": \",\".join(valid_ids)}\n",
    "    return {}\n",
    "\n",
    "def create_headers(budget_ids: List[str] = None, request_tags: List[str] = None) -> Dict[str, str]:\n",
    "    headers = {}\n",
    "    if budget_ids is not None:\n",
    "        headers.update(create_budget_header_from_ids(budget_ids))\n",
    "    if request_tags is not None:\n",
    "        headers.update(create_request_header_from_ids(request_tags))\n",
    "    return headers"
   ]
  },
  {
   "cell_type": "markdown",
   "metadata": {},
   "source": [
    "Use the Pay-i SDK to send a request with a request tag"
   ]
  },
  {
   "cell_type": "code",
   "execution_count": null,
   "metadata": {},
   "outputs": [],
   "source": [
    "from payi import Payi\n",
    "#from payi.lib.helpers import create_headers\n",
    "\n",
    "#TODO: Replace with production endpoint\n",
    "payi_client = Payi(\n",
    "    payi_api_key=payi_api_key,\n",
    "    base_url=\"https://apim-payi-qa-eastus.azure-api.net\"\n",
    ")\n",
    "\n",
    "#TODO: Rename to the correct headers API\n",
    "response = oai_client.chat.completions.create(\n",
    "    model=\"gpt-3.5-turbo\", \n",
    "    messages=[{\"role\": \"user\", \"content\": \"Say 'this is a request tag test'\"}],\n",
    "    #extra_headers=payi_client.create_headers(request_ids=[\"x\", \"y\"])\n",
    "    extra_headers=create_headers(request_tags=[\"x\", \"y\"])\n",
    ")\n",
    "\n",
    "completion = response.choices[0].message.content\n",
    "print(completion)\n",
    "\n",
    "proxy_result = response.proxy_result\n",
    "print(json.dumps(proxy_result, indent=4))"
   ]
  },
  {
   "cell_type": "markdown",
   "metadata": {},
   "source": [
    "Create a budget and make a request with that budget"
   ]
  },
  {
   "cell_type": "code",
   "execution_count": null,
   "metadata": {},
   "outputs": [],
   "source": [
    "#Create a budget\n",
    "budget_response = payi_client.budgets.create(\n",
    "    #create a random name for the demo\n",
    "    budget_name=''.join(random.choices(string.ascii_letters + string.digits, k=6)), \n",
    "    max=12.50, #$12.50 USD\n",
    "    budget_type=\"Liberal\",\n",
    "    budget_response_type=\"Allow\",\n",
    "    budget_tags=[\"example_budget\"]\n",
    ")\n",
    "\n",
    "budget_name = budget_response.budget.budget_name\n",
    "budget_id = budget_response.budget.budget_id\n",
    "\n",
    "print(\"Budget Created\")\n",
    "print(f\"Budget Name: {budget_name}\")\n",
    "print(f\"Budget ID: {budget_id}\")\n",
    "\n",
    "#Make a request using the new budget and request tags\n",
    "response = oai_client.chat.completions.create(\n",
    "    model=\"gpt-3.5-turbo\", \n",
    "    messages=[{\"role\": \"user\", \"content\": \"Say 'this is a budget test'\"}],\n",
    "    #extra_headers=payi_client.create_headers(request_ids=[\"x\", \"y\"])\n",
    "    extra_headers=create_headers(\n",
    "        request_tags=[\"x\", \"y\"], \n",
    "        budget_ids=[budget_id]\n",
    "    )\n",
    ")\n",
    "\n",
    "completion = response.choices[0].message.content\n",
    "print(completion)\n",
    "\n",
    "proxy_result = response.proxy_result\n",
    "print(json.dumps(proxy_result, indent=4))"
   ]
  },
  {
   "cell_type": "markdown",
   "metadata": {},
   "source": [
    "See budget status"
   ]
  },
  {
   "cell_type": "code",
   "execution_count": null,
   "metadata": {},
   "outputs": [],
   "source": [
    "response = payi_client.budgets.retrieve(budget_id=budget_id)\n",
    "print(f\"Budget Name: {response.budget.budget_name}\")\n",
    "print(f\"Budget ID: {response.budget.budget_id}\")\n",
    "print(f\"Budget Creation Timestamp: {response.budget.budget_creation_timestamp}\")\n",
    "print(f\"Budget Tags: {response.budget.budget_tags}\")\n",
    "print(f\"Budget Input Base Cost: {response.budget.totals.cost.input_cost.base}\")\n",
    "print(f\"Budget Output Base Cost: {response.budget.totals.cost.output_cost.base}\")\n",
    "print(f\"Budget Total Base Cost: {response.budget.totals.cost.total_cost.base}\")"
   ]
  },
  {
   "cell_type": "markdown",
   "metadata": {},
   "source": [
    "Make an ingest call with pre-computed token values"
   ]
  },
  {
   "cell_type": "code",
   "execution_count": null,
   "metadata": {},
   "outputs": [],
   "source": [
    "response = payi_client.ingest.units(\n",
    "    category=\"system.openai\",\n",
    "    resource=\"gpt-3.5-turbo\",\n",
    "    input=50,\n",
    "    output=100,\n",
    "    budget_ids= \",\".join([budget_id]),\n",
    "    request_tags = \",\".join([\"a\", \"b\"])\n",
    ")\n",
    "\n",
    "print(f\"Ingest request ID: {response.request_id}\")\n",
    "print(f\"Input Base Cost: {response.cost.input.base}\")\n",
    "print(f\"Output Base Cost: {response.cost.output.base}\")\n",
    "print(f\"Total Base Cost: {response.cost.total.base}\")"
   ]
  },
  {
   "cell_type": "markdown",
   "metadata": {},
   "source": [
    "Reset a budget back to zero tracked cost"
   ]
  },
  {
   "cell_type": "code",
   "execution_count": null,
   "metadata": {},
   "outputs": [],
   "source": [
    "response = payi_client.budgets.reset(budget_id=budget_id)\n",
    "print(response.message)\n",
    "print(\"State prior to reset: \")\n",
    "print(f\"Budget Name: {response.budget_history.budget_name}\")\n",
    "print(f\"Budget ID: {response.budget_history.budget_id}\")\n",
    "print(f\"Budget Tags: {response.budget_history.budget_tags}\")\n",
    "print(f\"Budget Reset Timestamp: {response.budget_history.reset_date}\")\n",
    "print(f\"Budget Input Base Cost: {response.budget_history.totals.cost.input.base}\")\n",
    "print(f\"Budget Output Base Cost: {response.budget_history.totals.cost.output.base}\")\n",
    "print(f\"Budget Total Base Cost: {response.budget_history.totals.cost.total.base}\")\n",
    "\n",
    "print(\"\\nState after reset:\")\n",
    "response = payi_client.budgets.retrieve(budget_id=budget_id)\n",
    "print(f\"Budget Name: {response.budget.budget_name}\")\n",
    "print(f\"Budget ID: {response.budget.budget_id}\")\n",
    "print(f\"Budget Creation Timestamp: {response.budget.budget_creation_timestamp}\")\n",
    "print(f\"Budget Tags: {response.budget.budget_tags}\")\n",
    "print(f\"Budget Input Base Cost: {response.budget.totals.cost.input_cost.base}\")\n",
    "print(f\"Budget Output Base Cost: {response.budget.totals.cost.output_cost.base}\")\n",
    "print(f\"Budget Total Base Cost: {response.budget.totals.cost.total_cost.base}\")"
   ]
  },
  {
   "cell_type": "markdown",
   "metadata": {},
   "source": [
    "List and then delete all budgets"
   ]
  },
  {
   "cell_type": "code",
   "execution_count": null,
   "metadata": {},
   "outputs": [],
   "source": [
    "response = payi_client.budgets.list()\n",
    "for budget in response.items:\n",
    "    print(\"Deleting budget with id:\" + budget.budget_id)\n",
    "    payi_client.budgets.delete(budget.budget_id)"
   ]
  }
 ],
 "metadata": {
  "kernelspec": {
   "display_name": "Python 3",
   "language": "python",
   "name": "python3"
  },
  "language_info": {
   "codemirror_mode": {
    "name": "ipython",
    "version": 3
   },
   "file_extension": ".py",
   "mimetype": "text/x-python",
   "name": "python",
   "nbconvert_exporter": "python",
   "pygments_lexer": "ipython3",
   "version": "3.12.2"
  }
 },
 "nbformat": 4,
 "nbformat_minor": 2
}
