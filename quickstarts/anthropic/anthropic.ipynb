{
 "cells": [
  {
   "cell_type": "code",
   "execution_count": null,
   "metadata": {},
   "outputs": [],
   "source": [
    "%pip install -r requirements.txt"
   ]
  },
  {
   "cell_type": "markdown",
   "metadata": {},
   "source": [
    "Basic Anthropic Integration"
   ]
  },
  {
   "cell_type": "code",
   "execution_count": null,
   "metadata": {},
   "outputs": [],
   "source": [
    "import anthropic\n",
    "import json\n",
    "import random\n",
    "import string\n",
    "\n",
    "#TODO: Remove keys\n",
    "anthropic_key = \"YOUR_ANTHROPIC_KEY\"\n",
    "payi_api_key = \"YOUR_PAYI_API_KEY\"\n",
    "\n",
    "payi_headers = {\n",
    "    \"xProxy-Forward-x-api-key\": anthropic_key,\n",
    "    \"xProxy-Forward-anthropic-version\": \"2023-06-01\"\n",
    "}\n",
    "\n",
    "#TODO: Replace with Prod endpoint under the DNS\n",
    "payi_base_url = \"https://apim-payi-qa-eastus.azure-api.net/api/v1/proxy/anthropic/\"\n",
    "\n",
    "client = anthropic.Anthropic(\n",
    "    base_url = payi_base_url,\n",
    "    auth_token = payi_api_key,\n",
    "    default_headers=payi_headers\n",
    ")\n",
    "\n",
    "message = client.messages.create(\n",
    "    model=\"claude-3-5-sonnet-20240620\",\n",
    "    max_tokens=500,\n",
    "    messages=[\n",
    "        {\n",
    "            \"role\": \"user\",\n",
    "            \"content\": [\n",
    "                {\n",
    "                    \"type\": \"text\",\n",
    "                    \"text\": \"Say 'this is a test'\"\n",
    "                }\n",
    "            ]\n",
    "        }\n",
    "    ]\n",
    ")\n",
    "completion = message.content[0].text\n",
    "print(completion)\n",
    "\n",
    "proxy_result = message.proxy_result\n",
    "print(json.dumps(proxy_result, indent=4))\n"
   ]
  },
  {
   "cell_type": "code",
   "execution_count": null,
   "metadata": {},
   "outputs": [],
   "source": [
    "#TODO: Merge into the library directly\n",
    "from typing import List, Dict\n",
    "\n",
    "def create_budget_header_from_ids(budget_ids: List[str]) -> Dict[str, str]:\n",
    "    if not isinstance(budget_ids, list):\n",
    "        raise TypeError(\"budget_ids must be a list\")\n",
    "    \n",
    "    valid_ids = [id.strip() for id in budget_ids if isinstance(id, str) and id.strip()]\n",
    "    if valid_ids:\n",
    "        return {\"xProxy-Budget-IDs\": \",\".join(valid_ids)}\n",
    "    return {}\n",
    "\n",
    "def create_request_header_from_ids(request_ids: List[str]) -> Dict[str, str]:\n",
    "    if not isinstance(request_ids, list):\n",
    "        raise TypeError(\"request_tags must be a list\")\n",
    "    \n",
    "    valid_ids = [id.strip() for id in request_ids if isinstance(id, str) and id.strip()]\n",
    "    if valid_ids:\n",
    "        return {\"xProxy-Request-Tags\": \",\".join(valid_ids)}\n",
    "    return {}\n",
    "\n",
    "def create_headers(budget_ids: List[str] = None, request_tags: List[str] = None) -> Dict[str, str]:\n",
    "    headers = {}\n",
    "    if budget_ids is not None:\n",
    "        headers.update(create_budget_header_from_ids(budget_ids))\n",
    "    if request_tags is not None:\n",
    "        headers.update(create_request_header_from_ids(request_tags))\n",
    "    return headers"
   ]
  },
  {
   "cell_type": "markdown",
   "metadata": {},
   "source": [
    "Use the Pay-i SDK to send a request with a request tag"
   ]
  },
  {
   "cell_type": "code",
   "execution_count": null,
   "metadata": {},
   "outputs": [],
   "source": [
    "from payi import Payi\n",
    "#from payi.lib.helpers import create_headers\n",
    "\n",
    "#TODO: Replace with production endpoint\n",
    "payi_client = Payi(\n",
    "    payi_api_key=payi_api_key,\n",
    "    base_url=\"https://apim-payi-qa-eastus.azure-api.net\"\n",
    ")\n",
    "\n",
    "message = client.messages.create(\n",
    "    model=\"claude-3-5-sonnet-20240620\",\n",
    "    max_tokens=500,\n",
    "    messages=[\n",
    "        {\n",
    "            \"role\": \"user\",\n",
    "            \"content\": [\n",
    "                {\n",
    "                    \"type\": \"text\",\n",
    "                    \"text\": \"Say 'this is a request tag test'\"\n",
    "                }\n",
    "            ]\n",
    "        }\n",
    "    ],\n",
    "    extra_headers=create_headers(request_tags=[\"x\", \"y\"])\n",
    ")\n",
    "\n",
    "completion = message.content[0].text\n",
    "print(completion)\n",
    "\n",
    "proxy_result = message.proxy_result\n",
    "print(json.dumps(proxy_result, indent=4))"
   ]
  },
  {
   "cell_type": "markdown",
   "metadata": {},
   "source": [
    "Create a budget and make a request with that budget"
   ]
  },
  {
   "cell_type": "code",
   "execution_count": null,
   "metadata": {},
   "outputs": [],
   "source": [
    "#Create a budget\n",
    "budget_response = payi_client.budgets.create(\n",
    "    #create a random name for the demo\n",
    "    budget_name=''.join(random.choices(string.ascii_letters + string.digits, k=6)), \n",
    "    max=12.50, #$12.50 USD\n",
    "    budget_type=\"Liberal\",\n",
    "    budget_response_type=\"Allow\",\n",
    "    budget_tags=[\"example_budget\"]\n",
    ")\n",
    "\n",
    "budget_name = budget_response.budget.budget_name\n",
    "budget_id = budget_response.budget.budget_id\n",
    "\n",
    "print(\"Budget Created\")\n",
    "print(f\"Budget Name: {budget_name}\")\n",
    "print(f\"Budget ID: {budget_id}\")\n",
    "\n",
    "#Make a request using the new budget and request tags\n",
    "message = client.messages.create(\n",
    "    model=\"claude-3-5-sonnet-20240620\",\n",
    "    max_tokens=500,\n",
    "    messages=[\n",
    "        {\n",
    "            \"role\": \"user\",\n",
    "            \"content\": [\n",
    "                {\n",
    "                    \"type\": \"text\",\n",
    "                    \"text\": \"Say 'this is a request tag test'\"\n",
    "                }\n",
    "            ]\n",
    "        }\n",
    "    ],\n",
    "    extra_headers=create_headers(\n",
    "        request_tags=[\"x\", \"y\"],\n",
    "        budget_ids=[budget_id]\n",
    "    )\n",
    ")\n",
    "\n",
    "completion = message.content[0].text\n",
    "print(completion)\n",
    "\n",
    "proxy_result = message.proxy_result\n",
    "print(json.dumps(proxy_result, indent=4))"
   ]
  },
  {
   "cell_type": "markdown",
   "metadata": {},
   "source": [
    "See budget status"
   ]
  },
  {
   "cell_type": "code",
   "execution_count": null,
   "metadata": {},
   "outputs": [],
   "source": [
    "response = payi_client.budgets.retrieve(budget_id=budget_id)\n",
    "print(f\"Budget Name: {response.budget.budget_name}\")\n",
    "print(f\"Budget ID: {response.budget.budget_id}\")\n",
    "print(f\"Budget Creation Timestamp: {response.budget.budget_creation_timestamp}\")\n",
    "print(f\"Budget Tags: {response.budget.budget_tags}\")\n",
    "print(f\"Budget Input Base Cost: {response.budget.totals.cost.input_cost.base}\")\n",
    "print(f\"Budget Output Base Cost: {response.budget.totals.cost.output_cost.base}\")\n",
    "print(f\"Budget Total Base Cost: {response.budget.totals.cost.total_cost.base}\")"
   ]
  },
  {
   "cell_type": "markdown",
   "metadata": {},
   "source": [
    "Make an ingest call with pre-computed token values"
   ]
  },
  {
   "cell_type": "code",
   "execution_count": null,
   "metadata": {},
   "outputs": [],
   "source": [
    "response = payi_client.ingest.units(\n",
    "    category=\"system.anthropic\",\n",
    "    resource=\"claude-3-5-sonnet-20240620\",\n",
    "    input=50,\n",
    "    output=100,\n",
    "    budget_ids= \",\".join([budget_id]),\n",
    "    request_tags = \",\".join([\"a\", \"b\"])\n",
    ")\n",
    "\n",
    "print(f\"Ingest request ID: {response.request_id}\")\n",
    "print(f\"Input Base Cost: {response.cost.input.base}\")\n",
    "print(f\"Output Base Cost: {response.cost.output.base}\")\n",
    "print(f\"Total Base Cost: {response.cost.total.base}\")"
   ]
  },
  {
   "cell_type": "markdown",
   "metadata": {},
   "source": [
    "Reset a budget back to zero tracked cost"
   ]
  },
  {
   "cell_type": "code",
   "execution_count": 11,
   "metadata": {},
   "outputs": [
    {
     "name": "stdout",
     "output_type": "stream",
     "text": [
      "Budget has been successfully reset. Budget History item created\n",
      "State prior to reset: \n",
      "Budget Name: hQ4f0o\n",
      "Budget ID: b69c9dbb-fb3c-4799-45b9-08dc97a2c1c2\n",
      "Budget Tags: ['example_budget']\n",
      "Budget Reset Timestamp: 2024-06-29 21:40:25.586807+00:00\n",
      "Budget Input Base Cost: 5.1e-05\n",
      "Budget Output Base Cost: 0.000135\n",
      "Budget Total Base Cost: 0.000186\n",
      "\n",
      "State after reset:\n",
      "Budget Name: hQ4f0o\n",
      "Budget ID: b69c9dbb-fb3c-4799-45b9-08dc97a2c1c2\n",
      "Budget Creation Timestamp: 2024-06-29 21:39:02.564307\n",
      "Budget Tags: ['example_budget']\n",
      "Budget Input Base Cost: 0.0\n",
      "Budget Output Base Cost: 0.0\n",
      "Budget Total Base Cost: 0.0\n"
     ]
    }
   ],
   "source": [
    "response = payi_client.budgets.reset(budget_id=budget_id)\n",
    "print(response.message)\n",
    "print(\"State prior to reset: \")\n",
    "print(f\"Budget Name: {response.budget_history.budget_name}\")\n",
    "print(f\"Budget ID: {response.budget_history.budget_id}\")\n",
    "print(f\"Budget Tags: {response.budget_history.budget_tags}\")\n",
    "print(f\"Budget Reset Timestamp: {response.budget_history.reset_date}\")\n",
    "print(f\"Budget Input Base Cost: {response.budget_history.totals.cost.input.base}\")\n",
    "print(f\"Budget Output Base Cost: {response.budget_history.totals.cost.output.base}\")\n",
    "print(f\"Budget Total Base Cost: {response.budget_history.totals.cost.total.base}\")\n",
    "\n",
    "print(\"\\nState after reset:\")\n",
    "response = payi_client.budgets.retrieve(budget_id=budget_id)\n",
    "print(f\"Budget Name: {response.budget.budget_name}\")\n",
    "print(f\"Budget ID: {response.budget.budget_id}\")\n",
    "print(f\"Budget Creation Timestamp: {response.budget.budget_creation_timestamp}\")\n",
    "print(f\"Budget Tags: {response.budget.budget_tags}\")\n",
    "print(f\"Budget Input Base Cost: {response.budget.totals.cost.input_cost.base}\")\n",
    "print(f\"Budget Output Base Cost: {response.budget.totals.cost.output_cost.base}\")\n",
    "print(f\"Budget Total Base Cost: {response.budget.totals.cost.total_cost.base}\")"
   ]
  },
  {
   "cell_type": "markdown",
   "metadata": {},
   "source": [
    "List and then delete all budgets"
   ]
  },
  {
   "cell_type": "code",
   "execution_count": 12,
   "metadata": {},
   "outputs": [
    {
     "name": "stdout",
     "output_type": "stream",
     "text": [
      "Deleting budget with id:b69c9dbb-fb3c-4799-45b9-08dc97a2c1c2\n"
     ]
    }
   ],
   "source": [
    "response = payi_client.budgets.list()\n",
    "for budget in response.items:\n",
    "    print(\"Deleting budget with id:\" + budget.budget_id)\n",
    "    payi_client.budgets.delete(budget.budget_id)"
   ]
  }
 ],
 "metadata": {
  "kernelspec": {
   "display_name": "Python 3",
   "language": "python",
   "name": "python3"
  },
  "language_info": {
   "codemirror_mode": {
    "name": "ipython",
    "version": 3
   },
   "file_extension": ".py",
   "mimetype": "text/x-python",
   "name": "python",
   "nbconvert_exporter": "python",
   "pygments_lexer": "ipython3",
   "version": "3.12.2"
  }
 },
 "nbformat": 4,
 "nbformat_minor": 2
}
